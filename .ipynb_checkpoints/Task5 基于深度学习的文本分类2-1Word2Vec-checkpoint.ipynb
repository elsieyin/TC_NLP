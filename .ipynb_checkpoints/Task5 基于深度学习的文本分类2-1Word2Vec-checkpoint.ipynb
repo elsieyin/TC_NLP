{
 "cells": [
  {
   "cell_type": "markdown",
   "metadata": {},
   "source": [
    "# 使用gensim训练word2vec\n",
    "\n",
    "本DEMO只使用部分数据，使用全部数据预训练的词向量地址：  \n",
    "\n",
    "链接: https://pan.baidu.com/s/1ewlck3zwXVQuAzraZ26Euw 提取码: qbpr "
   ]
  },
  {
   "cell_type": "code",
   "execution_count": 1,
   "metadata": {
    "ExecuteTime": {
     "end_time": "2020-07-29T00:28:17.654076Z",
     "start_time": "2020-07-29T00:28:16.986173Z"
    }
   },
   "outputs": [
    {
     "data": {
      "text/plain": [
       "<torch._C.Generator at 0x259b6aa29d0>"
      ]
     },
     "execution_count": 1,
     "metadata": {},
     "output_type": "execute_result"
    }
   ],
   "source": [
    "import logging\n",
    "import random\n",
    "\n",
    "import numpy as np\n",
    "import torch\n",
    "\n",
    "logging.basicConfig(level=logging.INFO, format='%(asctime)-15s %(levelname)s: %(message)s')\n",
    "\n",
    "# set seed\n",
    "seed = 666\n",
    "random.seed(seed)\n",
    "np.random.seed(seed)\n",
    "torch.cuda.manual_seed(seed)\n",
    "torch.manual_seed(seed)"
   ]
  },
  {
   "cell_type": "code",
   "execution_count": 2,
   "metadata": {
    "ExecuteTime": {
     "end_time": "2020-07-29T00:28:24.917664Z",
     "start_time": "2020-07-29T00:28:17.655078Z"
    }
   },
   "outputs": [
    {
     "name": "stderr",
     "output_type": "stream",
     "text": [
      "2020-07-29 08:28:24,801 INFO: Fold lens [1000, 1000, 1000, 1000, 1000, 1000, 1000, 1000, 1000, 1000]\n"
     ]
    }
   ],
   "source": [
    "# split data to 10 fold\n",
    "fold_num = 10\n",
    "data_file = './data/train_set.csv'\n",
    "import pandas as pd\n",
    "\n",
    "\n",
    "def all_data2fold(fold_num, num=10000):\n",
    "    fold_data = []\n",
    "    f = pd.read_csv(data_file, sep='\\t', encoding='UTF-8')\n",
    "    texts = f['text'].tolist()[:num]\n",
    "    labels = f['label'].tolist()[:num]\n",
    "\n",
    "    total = len(labels)\n",
    "\n",
    "    index = list(range(total))\n",
    "    np.random.shuffle(index)\n",
    "\n",
    "    all_texts = []\n",
    "    all_labels = []\n",
    "    for i in index:\n",
    "        all_texts.append(texts[i])\n",
    "        all_labels.append(labels[i])\n",
    "\n",
    "    label2id = {}\n",
    "    for i in range(total):\n",
    "        label = str(all_labels[i])\n",
    "        if label not in label2id:\n",
    "            label2id[label] = [i]\n",
    "        else:\n",
    "            label2id[label].append(i)\n",
    "\n",
    "    all_index = [[] for _ in range(fold_num)]\n",
    "    for label, data in label2id.items():\n",
    "        # print(label, len(data))\n",
    "        batch_size = int(len(data) / fold_num)\n",
    "        other = len(data) - batch_size * fold_num\n",
    "        for i in range(fold_num):\n",
    "            cur_batch_size = batch_size + 1 if i < other else batch_size\n",
    "            # print(cur_batch_size)\n",
    "            batch_data = [data[i * batch_size + b] for b in range(cur_batch_size)]\n",
    "            all_index[i].extend(batch_data)\n",
    "\n",
    "    batch_size = int(total / fold_num)\n",
    "    other_texts = []\n",
    "    other_labels = []\n",
    "    other_num = 0\n",
    "    start = 0\n",
    "    for fold in range(fold_num):\n",
    "        num = len(all_index[fold])\n",
    "        texts = [all_texts[i] for i in all_index[fold]]\n",
    "        labels = [all_labels[i] for i in all_index[fold]]\n",
    "\n",
    "        if num > batch_size:\n",
    "            fold_texts = texts[:batch_size]\n",
    "            other_texts.extend(texts[batch_size:])\n",
    "            fold_labels = labels[:batch_size]\n",
    "            other_labels.extend(labels[batch_size:])\n",
    "            other_num += num - batch_size\n",
    "        elif num < batch_size:\n",
    "            end = start + batch_size - num\n",
    "            fold_texts = texts + other_texts[start: end]\n",
    "            fold_labels = labels + other_labels[start: end]\n",
    "            start = end\n",
    "        else:\n",
    "            fold_texts = texts\n",
    "            fold_labels = labels\n",
    "\n",
    "        assert batch_size == len(fold_labels)\n",
    "\n",
    "        # shuffle\n",
    "        index = list(range(batch_size))\n",
    "        np.random.shuffle(index)\n",
    "\n",
    "        shuffle_fold_texts = []\n",
    "        shuffle_fold_labels = []\n",
    "        for i in index:\n",
    "            shuffle_fold_texts.append(fold_texts[i])\n",
    "            shuffle_fold_labels.append(fold_labels[i])\n",
    "\n",
    "        data = {'label': shuffle_fold_labels, 'text': shuffle_fold_texts}\n",
    "        fold_data.append(data)\n",
    "\n",
    "    logging.info(\"Fold lens %s\", str([len(data['label']) for data in fold_data]))\n",
    "\n",
    "    return fold_data\n",
    "\n",
    "\n",
    "fold_data = all_data2fold(10)"
   ]
  },
  {
   "cell_type": "code",
   "execution_count": 3,
   "metadata": {
    "ExecuteTime": {
     "end_time": "2020-07-29T00:28:24.933738Z",
     "start_time": "2020-07-29T00:28:24.918663Z"
    }
   },
   "outputs": [
    {
     "name": "stderr",
     "output_type": "stream",
     "text": [
      "2020-07-29 08:28:24,919 INFO: Total 9000 docs.\n"
     ]
    }
   ],
   "source": [
    "# build train data for word2vec\n",
    "fold_id = 9\n",
    "\n",
    "train_texts = []\n",
    "for i in range(0, fold_id):\n",
    "    data = fold_data[i]\n",
    "    train_texts.extend(data['text'])\n",
    "    \n",
    "logging.info('Total %d docs.' % len(train_texts))"
   ]
  },
  {
   "cell_type": "code",
   "execution_count": 5,
   "metadata": {
    "ExecuteTime": {
     "end_time": "2020-07-29T00:31:15.013126Z",
     "start_time": "2020-07-29T00:31:01.350614Z"
    }
   },
   "outputs": [
    {
     "name": "stderr",
     "output_type": "stream",
     "text": [
      "2020-07-29 08:31:01,351 INFO: Start training...\n",
      "2020-07-29 08:31:02,955 INFO: collecting all words and their counts\n",
      "2020-07-29 08:31:02,956 INFO: PROGRESS: at sentence #0, processed 0 words, keeping 0 word types\n",
      "2020-07-29 08:31:03,881 INFO: collected 5295 word types from a corpus of 8191447 raw words and 9000 sentences\n",
      "2020-07-29 08:31:03,882 INFO: Loading a fresh vocabulary\n",
      "2020-07-29 08:31:03,940 INFO: effective_min_count=5 retains 4335 unique words (81% of original 5295, drops 960)\n",
      "2020-07-29 08:31:03,940 INFO: effective_min_count=5 leaves 8189498 word corpus (99% of original 8191447, drops 1949)\n",
      "2020-07-29 08:31:03,952 INFO: deleting the raw counts dictionary of 5295 items\n",
      "2020-07-29 08:31:03,953 INFO: sample=0.001 downsamples 61 most-common words\n",
      "2020-07-29 08:31:03,953 INFO: downsampling leaves estimated 7070438 word corpus (86.3% of prior 8189498)\n",
      "2020-07-29 08:31:03,960 INFO: estimated required memory for 4335 words and 100 dimensions: 5635500 bytes\n",
      "2020-07-29 08:31:03,960 INFO: resetting layer weights\n",
      "2020-07-29 08:31:04,803 INFO: training model with 8 workers on 4335 vocabulary and 100 features, using sg=0 hs=0 sample=0.001 negative=5 window=5\n",
      "2020-07-29 08:31:05,807 INFO: EPOCH 1 - PROGRESS: at 48.34% examples, 3386988 words/s, in_qsize 16, out_qsize 0\n",
      "2020-07-29 08:31:06,807 INFO: EPOCH 1 - PROGRESS: at 98.01% examples, 3442122 words/s, in_qsize 15, out_qsize 0\n",
      "2020-07-29 08:31:06,830 INFO: worker thread finished; awaiting finish of 7 more threads\n",
      "2020-07-29 08:31:06,832 INFO: worker thread finished; awaiting finish of 6 more threads\n",
      "2020-07-29 08:31:06,833 INFO: worker thread finished; awaiting finish of 5 more threads\n",
      "2020-07-29 08:31:06,834 INFO: worker thread finished; awaiting finish of 4 more threads\n",
      "2020-07-29 08:31:06,836 INFO: worker thread finished; awaiting finish of 3 more threads\n",
      "2020-07-29 08:31:06,838 INFO: worker thread finished; awaiting finish of 2 more threads\n",
      "2020-07-29 08:31:06,843 INFO: worker thread finished; awaiting finish of 1 more threads\n",
      "2020-07-29 08:31:06,843 INFO: worker thread finished; awaiting finish of 0 more threads\n",
      "2020-07-29 08:31:06,844 INFO: EPOCH - 1 : training on 8191447 raw words (7021491 effective words) took 2.0s, 3446399 effective words/s\n",
      "2020-07-29 08:31:07,849 INFO: EPOCH 2 - PROGRESS: at 49.52% examples, 3451347 words/s, in_qsize 15, out_qsize 0\n",
      "2020-07-29 08:31:08,852 INFO: EPOCH 2 - PROGRESS: at 98.57% examples, 3450609 words/s, in_qsize 13, out_qsize 0\n",
      "2020-07-29 08:31:08,863 INFO: worker thread finished; awaiting finish of 7 more threads\n",
      "2020-07-29 08:31:08,864 INFO: worker thread finished; awaiting finish of 6 more threads\n",
      "2020-07-29 08:31:08,865 INFO: worker thread finished; awaiting finish of 5 more threads\n",
      "2020-07-29 08:31:08,866 INFO: worker thread finished; awaiting finish of 4 more threads\n",
      "2020-07-29 08:31:08,870 INFO: worker thread finished; awaiting finish of 3 more threads\n",
      "2020-07-29 08:31:08,871 INFO: worker thread finished; awaiting finish of 2 more threads\n",
      "2020-07-29 08:31:08,873 INFO: worker thread finished; awaiting finish of 1 more threads\n",
      "2020-07-29 08:31:08,876 INFO: worker thread finished; awaiting finish of 0 more threads\n",
      "2020-07-29 08:31:08,876 INFO: EPOCH - 2 : training on 8191447 raw words (7021629 effective words) took 2.0s, 3458491 effective words/s\n",
      "2020-07-29 08:31:09,880 INFO: EPOCH 3 - PROGRESS: at 49.86% examples, 3476227 words/s, in_qsize 15, out_qsize 0\n",
      "2020-07-29 08:31:10,876 INFO: worker thread finished; awaiting finish of 7 more threads\n",
      "2020-07-29 08:31:10,877 INFO: worker thread finished; awaiting finish of 6 more threads\n",
      "2020-07-29 08:31:10,878 INFO: worker thread finished; awaiting finish of 5 more threads\n",
      "2020-07-29 08:31:10,879 INFO: worker thread finished; awaiting finish of 4 more threads\n",
      "2020-07-29 08:31:10,883 INFO: EPOCH 3 - PROGRESS: at 99.56% examples, 3491260 words/s, in_qsize 3, out_qsize 1\n",
      "2020-07-29 08:31:10,883 INFO: worker thread finished; awaiting finish of 3 more threads\n",
      "2020-07-29 08:31:10,883 INFO: worker thread finished; awaiting finish of 2 more threads\n",
      "2020-07-29 08:31:10,886 INFO: worker thread finished; awaiting finish of 1 more threads\n",
      "2020-07-29 08:31:10,887 INFO: worker thread finished; awaiting finish of 0 more threads\n",
      "2020-07-29 08:31:10,888 INFO: EPOCH - 3 : training on 8191447 raw words (7022205 effective words) took 2.0s, 3494284 effective words/s\n",
      "2020-07-29 08:31:11,892 INFO: EPOCH 4 - PROGRESS: at 49.57% examples, 3459867 words/s, in_qsize 15, out_qsize 0\n",
      "2020-07-29 08:31:12,898 INFO: EPOCH 4 - PROGRESS: at 98.58% examples, 3454705 words/s, in_qsize 12, out_qsize 0\n",
      "2020-07-29 08:31:12,906 INFO: worker thread finished; awaiting finish of 7 more threads\n",
      "2020-07-29 08:31:12,906 INFO: worker thread finished; awaiting finish of 6 more threads\n",
      "2020-07-29 08:31:12,906 INFO: worker thread finished; awaiting finish of 5 more threads\n",
      "2020-07-29 08:31:12,907 INFO: worker thread finished; awaiting finish of 4 more threads\n",
      "2020-07-29 08:31:12,911 INFO: worker thread finished; awaiting finish of 3 more threads\n",
      "2020-07-29 08:31:12,912 INFO: worker thread finished; awaiting finish of 2 more threads\n",
      "2020-07-29 08:31:12,915 INFO: worker thread finished; awaiting finish of 1 more threads\n",
      "2020-07-29 08:31:12,916 INFO: worker thread finished; awaiting finish of 0 more threads\n",
      "2020-07-29 08:31:12,916 INFO: EPOCH - 4 : training on 8191447 raw words (7022153 effective words) took 2.0s, 3467022 effective words/s\n",
      "2020-07-29 08:31:13,919 INFO: EPOCH 5 - PROGRESS: at 48.48% examples, 3398593 words/s, in_qsize 15, out_qsize 0\n",
      "2020-07-29 08:31:14,921 INFO: EPOCH 5 - PROGRESS: at 97.41% examples, 3423961 words/s, in_qsize 15, out_qsize 0\n",
      "2020-07-29 08:31:14,951 INFO: worker thread finished; awaiting finish of 7 more threads\n",
      "2020-07-29 08:31:14,952 INFO: worker thread finished; awaiting finish of 6 more threads\n",
      "2020-07-29 08:31:14,953 INFO: worker thread finished; awaiting finish of 5 more threads\n",
      "2020-07-29 08:31:14,954 INFO: worker thread finished; awaiting finish of 4 more threads\n",
      "2020-07-29 08:31:14,958 INFO: worker thread finished; awaiting finish of 3 more threads\n",
      "2020-07-29 08:31:14,961 INFO: worker thread finished; awaiting finish of 2 more threads\n",
      "2020-07-29 08:31:14,963 INFO: worker thread finished; awaiting finish of 1 more threads\n",
      "2020-07-29 08:31:14,964 INFO: worker thread finished; awaiting finish of 0 more threads\n",
      "2020-07-29 08:31:14,964 INFO: EPOCH - 5 : training on 8191447 raw words (7021770 effective words) took 2.0s, 3433115 effective words/s\n",
      "2020-07-29 08:31:14,964 INFO: training on a 40957235 raw words (35109248 effective words) took 10.2s, 3455293 effective words/s\n",
      "2020-07-29 08:31:14,965 INFO: precomputing L2-norms of word weight vectors\n",
      "2020-07-29 08:31:14,966 INFO: saving Word2Vec object under ./word2vec.bin, separately None\n",
      "2020-07-29 08:31:14,967 INFO: not storing attribute vectors_norm\n",
      "2020-07-29 08:31:14,967 INFO: not storing attribute cum_table\n",
      "2020-07-29 08:31:14,999 INFO: saved ./word2vec.bin\n"
     ]
    }
   ],
   "source": [
    "logging.info('Start training...')\n",
    "from gensim.models.word2vec import Word2Vec\n",
    "\n",
    "num_features = 100     # Word vector dimensionality\n",
    "num_workers = 8       # Number of threads to run in parallel\n",
    "\n",
    "train_texts = list(map(lambda x: list(x.split()), train_texts))\n",
    "model = Word2Vec(train_texts, workers=num_workers, size=num_features)\n",
    "model.init_sims(replace=True)\n",
    "\n",
    "# save model\n",
    "model.save(\"./word2vec.bin\")"
   ]
  },
  {
   "cell_type": "code",
   "execution_count": 6,
   "metadata": {
    "ExecuteTime": {
     "end_time": "2020-07-29T00:31:34.119412Z",
     "start_time": "2020-07-29T00:31:33.827615Z"
    }
   },
   "outputs": [
    {
     "name": "stderr",
     "output_type": "stream",
     "text": [
      "2020-07-29 08:31:33,828 INFO: loading Word2Vec object from ./word2vec.bin\n",
      "2020-07-29 08:31:33,857 INFO: loading wv recursively from ./word2vec.bin.wv.* with mmap=None\n",
      "2020-07-29 08:31:33,858 INFO: setting ignored attribute vectors_norm to None\n",
      "2020-07-29 08:31:33,859 INFO: loading vocabulary recursively from ./word2vec.bin.vocabulary.* with mmap=None\n",
      "2020-07-29 08:31:33,859 INFO: loading trainables recursively from ./word2vec.bin.trainables.* with mmap=None\n",
      "2020-07-29 08:31:33,859 INFO: setting ignored attribute cum_table to None\n",
      "2020-07-29 08:31:33,860 INFO: loaded ./word2vec.bin\n",
      "2020-07-29 08:31:33,867 INFO: storing 4335x100 projection weights into ./word2vec.txt\n"
     ]
    }
   ],
   "source": [
    "# load model\n",
    "model = Word2Vec.load(\"./word2vec.bin\")\n",
    "\n",
    "# convert format\n",
    "model.wv.save_word2vec_format('./word2vec.txt', binary=False)"
   ]
  },
  {
   "cell_type": "markdown",
   "metadata": {},
   "source": [
    "**关于Datawhale：**\n",
    "\n",
    "> Datawhale是一个专注于数据科学与AI领域的开源组织，汇集了众多领域院校和知名企业的优秀学习者，聚合了一群有开源精神和探索精神的团队成员。Datawhale 以“for the learner，和学习者一起成长”为愿景，鼓励真实地展现自我、开放包容、互信互助、敢于试错和勇于担当。同时 Datawhale 用开源的理念去探索开源内容、开源学习和开源方案，赋能人才培养，助力人才成长，建立起人与人，人与知识，人与企业和人与未来的联结。\n",
    "\n",
    "本次新闻文本分类学习，专题知识将在天池分享，详情可关注Datawhale：\n",
    "\n",
    " ![](http://jupter-oss.oss-cn-hangzhou.aliyuncs.com/public/files/image/1095279172547/1584432602983_kAxAvgQpG2.jpg)"
   ]
  }
 ],
 "metadata": {
  "kernelspec": {
   "display_name": "kaggle",
   "language": "python",
   "name": "kaggle"
  },
  "language_info": {
   "codemirror_mode": {
    "name": "ipython",
    "version": 3
   },
   "file_extension": ".py",
   "mimetype": "text/x-python",
   "name": "python",
   "nbconvert_exporter": "python",
   "pygments_lexer": "ipython3",
   "version": "3.7.7"
  },
  "toc": {
   "base_numbering": 1,
   "nav_menu": {},
   "number_sections": true,
   "sideBar": true,
   "skip_h1_title": false,
   "title_cell": "Table of Contents",
   "title_sidebar": "Contents",
   "toc_cell": false,
   "toc_position": {},
   "toc_section_display": true,
   "toc_window_display": false
  },
  "varInspector": {
   "cols": {
    "lenName": 16,
    "lenType": 16,
    "lenVar": 40
   },
   "kernels_config": {
    "python": {
     "delete_cmd_postfix": "",
     "delete_cmd_prefix": "del ",
     "library": "var_list.py",
     "varRefreshCmd": "print(var_dic_list())"
    },
    "r": {
     "delete_cmd_postfix": ") ",
     "delete_cmd_prefix": "rm(",
     "library": "var_list.r",
     "varRefreshCmd": "cat(var_dic_list()) "
    }
   },
   "types_to_exclude": [
    "module",
    "function",
    "builtin_function_or_method",
    "instance",
    "_Feature"
   ],
   "window_display": false
  }
 },
 "nbformat": 4,
 "nbformat_minor": 2
}
